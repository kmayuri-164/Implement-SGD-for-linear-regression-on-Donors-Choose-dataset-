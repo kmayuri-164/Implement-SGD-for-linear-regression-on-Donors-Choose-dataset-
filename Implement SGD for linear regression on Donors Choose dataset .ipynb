{
 "cells": [
  {
   "cell_type": "code",
   "execution_count": 0,
   "metadata": {
    "colab": {},
    "colab_type": "code",
    "id": "REYPoTJ1Af7u"
   },
   "outputs": [],
   "source": [
    "import warnings\n",
    "warnings.filterwarnings(\"ignore\")\n",
    "from sklearn.datasets import load_boston\n",
    "from random import seed\n",
    "from random import randrange\n",
    "from csv import reader\n",
    "from math import sqrt\n",
    "from sklearn import preprocessing\n",
    "import pandas as pd\n",
    "import numpy as np\n",
    "import matplotlib.pyplot as plt\n",
    "from prettytable import PrettyTable\n",
    "from sklearn.linear_model import SGDRegressor\n",
    "from sklearn import preprocessing\n",
    "from sklearn.metrics import mean_squared_error"
   ]
  },
  {
   "cell_type": "code",
   "execution_count": 0,
   "metadata": {
    "colab": {},
    "colab_type": "code",
    "id": "NTQ2iH-kAwbo"
   },
   "outputs": [],
   "source": [
    "X = load_boston().data\n",
    "Y = load_boston().target"
   ]
  },
  {
   "cell_type": "code",
   "execution_count": 0,
   "metadata": {
    "colab": {},
    "colab_type": "code",
    "id": "FgUW39s6Be0U"
   },
   "outputs": [],
   "source": [
    "scaler = preprocessing.StandardScaler().fit(X)\n",
    "X = scaler.transform(X)"
   ]
  },
  {
   "cell_type": "code",
   "execution_count": 12,
   "metadata": {
    "colab": {
     "base_uri": "https://localhost:8080/",
     "height": 34
    },
    "colab_type": "code",
    "executionInfo": {
     "elapsed": 879,
     "status": "ok",
     "timestamp": 1545718892607,
     "user": {
      "displayName": "Applied AI Course",
      "photoUrl": "https://lh5.googleusercontent.com/-9_3A9F-kDXs/AAAAAAAAAAI/AAAAAAAAACw/IprjYvUuoXQ/s64/photo.jpg",
      "userId": "00484516897554883881"
     },
     "user_tz": -330
    },
    "id": "HNu1sXtEBBS2",
    "outputId": "a0c5d3d0-345c-4a34-8ccf-0d9f3d7d23fd"
   },
   "outputs": [
    {
     "name": "stdout",
     "output_type": "stream",
     "text": [
      "22.713026681360155\n"
     ]
    }
   ],
   "source": [
    "clf = SGDRegressor()\n",
    "clf.fit(X, Y)\n",
    "print(mean_squared_error(Y, clf.predict(X)))"
   ]
  },
  {
   "cell_type": "markdown",
   "metadata": {},
   "source": [
    "# Assignment 6: Implement SGD for linear regression"
   ]
  },
  {
   "cell_type": "markdown",
   "metadata": {},
   "source": [
    "# Objective:"
   ]
  },
  {
   "cell_type": "markdown",
   "metadata": {},
   "source": [
    "To implement Manual stochastic gradient descent(SGD) for linear Regression and implementing SKLEARN's SGD Regression \n",
    "on Bostan House Prices dataset and Comparing the results of both Manual SGD and Sklearn's SGD"
   ]
  },
  {
   "cell_type": "code",
   "execution_count": 58,
   "metadata": {},
   "outputs": [],
   "source": [
    "import warnings\n",
    "warnings.filterwarnings('ignore')\n",
    "import numpy as np\n",
    "import pandas as pd\n",
    "import seaborn as sns\n",
    "import matplotlib.pyplot as plt\n",
    "import math\n",
    "from math import sqrt\n",
    "from sklearn import preprocessing\n",
    "from random import randrange\n",
    "from sklearn.datasets import load_boston\n",
    "from sklearn.model_selection import train_test_split\n",
    "from sklearn.model_selection import learning_curve\n",
    "from sklearn.model_selection import ShuffleSplit\n",
    "from sklearn.linear_model import LinearRegression\n",
    "from sklearn.linear_model import SGDRegressor\n",
    "from sklearn.utils.extmath import safe_sparse_dot\n",
    "from sklearn.preprocessing import StandardScaler\n",
    "from sklearn.metrics import mean_squared_error , r2_score"
   ]
  },
  {
   "cell_type": "markdown",
   "metadata": {},
   "source": [
    "# 1.Loading the boston dataset"
   ]
  },
  {
   "cell_type": "code",
   "execution_count": 59,
   "metadata": {},
   "outputs": [
    {
     "name": "stdout",
     "output_type": "stream",
     "text": [
      "(506, 13)\n"
     ]
    }
   ],
   "source": [
    "import numpy as np\n",
    "import pandas as pd\n",
    "\n",
    "from sklearn.datasets import load_boston\n",
    "boston = load_boston()\n",
    "\n",
    "\n",
    "print(boston.data.shape)"
   ]
  },
  {
   "cell_type": "code",
   "execution_count": 63,
   "metadata": {},
   "outputs": [
    {
     "name": "stdout",
     "output_type": "stream",
     "text": [
      "['CRIM' 'ZN' 'INDUS' 'CHAS' 'NOX' 'RM' 'AGE' 'DIS' 'RAD' 'TAX' 'PTRATIO'\n",
      " 'B' 'LSTAT']\n"
     ]
    }
   ],
   "source": [
    "print(boston.feature_names)"
   ]
  },
  {
   "cell_type": "code",
   "execution_count": 64,
   "metadata": {},
   "outputs": [
    {
     "name": "stdout",
     "output_type": "stream",
     "text": [
      "(506,)\n"
     ]
    }
   ],
   "source": [
    "print(boston.target.shape)"
   ]
  },
  {
   "cell_type": "code",
   "execution_count": 65,
   "metadata": {},
   "outputs": [
    {
     "name": "stdout",
     "output_type": "stream",
     "text": [
      "[24.  21.6 34.7 33.4 36.2 28.7 22.9 27.1 16.5 18.9 15.  18.9 21.7 20.4\n",
      " 18.2 19.9 23.1 17.5 20.2 18.2 13.6 19.6 15.2 14.5 15.6 13.9 16.6 14.8\n",
      " 18.4 21.  12.7 14.5 13.2 13.1 13.5 18.9 20.  21.  24.7 30.8 34.9 26.6\n",
      " 25.3 24.7 21.2 19.3 20.  16.6 14.4 19.4 19.7 20.5 25.  23.4 18.9 35.4\n",
      " 24.7 31.6 23.3 19.6 18.7 16.  22.2 25.  33.  23.5 19.4 22.  17.4 20.9\n",
      " 24.2 21.7 22.8 23.4 24.1 21.4 20.  20.8 21.2 20.3 28.  23.9 24.8 22.9\n",
      " 23.9 26.6 22.5 22.2 23.6 28.7 22.6 22.  22.9 25.  20.6 28.4 21.4 38.7\n",
      " 43.8 33.2 27.5 26.5 18.6 19.3 20.1 19.5 19.5 20.4 19.8 19.4 21.7 22.8\n",
      " 18.8 18.7 18.5 18.3 21.2 19.2 20.4 19.3 22.  20.3 20.5 17.3 18.8 21.4\n",
      " 15.7 16.2 18.  14.3 19.2 19.6 23.  18.4 15.6 18.1 17.4 17.1 13.3 17.8\n",
      " 14.  14.4 13.4 15.6 11.8 13.8 15.6 14.6 17.8 15.4 21.5 19.6 15.3 19.4\n",
      " 17.  15.6 13.1 41.3 24.3 23.3 27.  50.  50.  50.  22.7 25.  50.  23.8\n",
      " 23.8 22.3 17.4 19.1 23.1 23.6 22.6 29.4 23.2 24.6 29.9 37.2 39.8 36.2\n",
      " 37.9 32.5 26.4 29.6 50.  32.  29.8 34.9 37.  30.5 36.4 31.1 29.1 50.\n",
      " 33.3 30.3 34.6 34.9 32.9 24.1 42.3 48.5 50.  22.6 24.4 22.5 24.4 20.\n",
      " 21.7 19.3 22.4 28.1 23.7 25.  23.3 28.7 21.5 23.  26.7 21.7 27.5 30.1\n",
      " 44.8 50.  37.6 31.6 46.7 31.5 24.3 31.7 41.7 48.3 29.  24.  25.1 31.5\n",
      " 23.7 23.3 22.  20.1 22.2 23.7 17.6 18.5 24.3 20.5 24.5 26.2 24.4 24.8\n",
      " 29.6 42.8 21.9 20.9 44.  50.  36.  30.1 33.8 43.1 48.8 31.  36.5 22.8\n",
      " 30.7 50.  43.5 20.7 21.1 25.2 24.4 35.2 32.4 32.  33.2 33.1 29.1 35.1\n",
      " 45.4 35.4 46.  50.  32.2 22.  20.1 23.2 22.3 24.8 28.5 37.3 27.9 23.9\n",
      " 21.7 28.6 27.1 20.3 22.5 29.  24.8 22.  26.4 33.1 36.1 28.4 33.4 28.2\n",
      " 22.8 20.3 16.1 22.1 19.4 21.6 23.8 16.2 17.8 19.8 23.1 21.  23.8 23.1\n",
      " 20.4 18.5 25.  24.6 23.  22.2 19.3 22.6 19.8 17.1 19.4 22.2 20.7 21.1\n",
      " 19.5 18.5 20.6 19.  18.7 32.7 16.5 23.9 31.2 17.5 17.2 23.1 24.5 26.6\n",
      " 22.9 24.1 18.6 30.1 18.2 20.6 17.8 21.7 22.7 22.6 25.  19.9 20.8 16.8\n",
      " 21.9 27.5 21.9 23.1 50.  50.  50.  50.  50.  13.8 13.8 15.  13.9 13.3\n",
      " 13.1 10.2 10.4 10.9 11.3 12.3  8.8  7.2 10.5  7.4 10.2 11.5 15.1 23.2\n",
      "  9.7 13.8 12.7 13.1 12.5  8.5  5.   6.3  5.6  7.2 12.1  8.3  8.5  5.\n",
      " 11.9 27.9 17.2 27.5 15.  17.2 17.9 16.3  7.   7.2  7.5 10.4  8.8  8.4\n",
      " 16.7 14.2 20.8 13.4 11.7  8.3 10.2 10.9 11.   9.5 14.5 14.1 16.1 14.3\n",
      " 11.7 13.4  9.6  8.7  8.4 12.8 10.5 17.1 18.4 15.4 10.8 11.8 14.9 12.6\n",
      " 14.1 13.  13.4 15.2 16.1 17.8 14.9 14.1 12.7 13.5 14.9 20.  16.4 17.7\n",
      " 19.5 20.2 21.4 19.9 19.  19.1 19.1 20.1 19.9 19.6 23.2 29.8 13.8 13.3\n",
      " 16.7 12.  14.6 21.4 23.  23.7 25.  21.8 20.6 21.2 19.1 20.6 15.2  7.\n",
      "  8.1 13.6 20.1 21.8 24.5 23.1 19.7 18.3 21.2 17.5 16.8 22.4 20.6 23.9\n",
      " 22.  11.9]\n"
     ]
    }
   ],
   "source": [
    "print(boston.target)"
   ]
  },
  {
   "cell_type": "code",
   "execution_count": 66,
   "metadata": {},
   "outputs": [
    {
     "name": "stdout",
     "output_type": "stream",
     "text": [
      ".. _boston_dataset:\n",
      "\n",
      "Boston house prices dataset\n",
      "---------------------------\n",
      "\n",
      "**Data Set Characteristics:**  \n",
      "\n",
      "    :Number of Instances: 506 \n",
      "\n",
      "    :Number of Attributes: 13 numeric/categorical predictive. Median Value (attribute 14) is usually the target.\n",
      "\n",
      "    :Attribute Information (in order):\n",
      "        - CRIM     per capita crime rate by town\n",
      "        - ZN       proportion of residential land zoned for lots over 25,000 sq.ft.\n",
      "        - INDUS    proportion of non-retail business acres per town\n",
      "        - CHAS     Charles River dummy variable (= 1 if tract bounds river; 0 otherwise)\n",
      "        - NOX      nitric oxides concentration (parts per 10 million)\n",
      "        - RM       average number of rooms per dwelling\n",
      "        - AGE      proportion of owner-occupied units built prior to 1940\n",
      "        - DIS      weighted distances to five Boston employment centres\n",
      "        - RAD      index of accessibility to radial highways\n",
      "        - TAX      full-value property-tax rate per $10,000\n",
      "        - PTRATIO  pupil-teacher ratio by town\n",
      "        - B        1000(Bk - 0.63)^2 where Bk is the proportion of blacks by town\n",
      "        - LSTAT    % lower status of the population\n",
      "        - MEDV     Median value of owner-occupied homes in $1000's\n",
      "\n",
      "    :Missing Attribute Values: None\n",
      "\n",
      "    :Creator: Harrison, D. and Rubinfeld, D.L.\n",
      "\n",
      "This is a copy of UCI ML housing dataset.\n",
      "https://archive.ics.uci.edu/ml/machine-learning-databases/housing/\n",
      "\n",
      "\n",
      "This dataset was taken from the StatLib library which is maintained at Carnegie Mellon University.\n",
      "\n",
      "The Boston house-price data of Harrison, D. and Rubinfeld, D.L. 'Hedonic\n",
      "prices and the demand for clean air', J. Environ. Economics & Management,\n",
      "vol.5, 81-102, 1978.   Used in Belsley, Kuh & Welsch, 'Regression diagnostics\n",
      "...', Wiley, 1980.   N.B. Various transformations are used in the table on\n",
      "pages 244-261 of the latter.\n",
      "\n",
      "The Boston house-price data has been used in many machine learning papers that address regression\n",
      "problems.   \n",
      "     \n",
      ".. topic:: References\n",
      "\n",
      "   - Belsley, Kuh & Welsch, 'Regression diagnostics: Identifying Influential Data and Sources of Collinearity', Wiley, 1980. 244-261.\n",
      "   - Quinlan,R. (1993). Combining Instance-Based and Model-Based Learning. In Proceedings on the Tenth International Conference of Machine Learning, 236-243, University of Massachusetts, Amherst. Morgan Kaufmann.\n",
      "\n"
     ]
    }
   ],
   "source": [
    "print(boston.DESCR)"
   ]
  },
  {
   "cell_type": "markdown",
   "metadata": {},
   "source": [
    "# 1.1 Splitting the dataset into train-data and test-data"
   ]
  },
  {
   "cell_type": "code",
   "execution_count": 67,
   "metadata": {},
   "outputs": [],
   "source": [
    "feature_data=pd.DataFrame(data=boston.data)\n",
    "target_price=boston.target\n",
    "X_train, X_test, Y_train, Y_test=train_test_split(feature_data, target_price, test_size=0.3, random_state=5)"
   ]
  },
  {
   "cell_type": "markdown",
   "metadata": {},
   "source": [
    "# 1.2 Applying column standardization on train and test data"
   ]
  },
  {
   "cell_type": "code",
   "execution_count": 68,
   "metadata": {},
   "outputs": [],
   "source": [
    "ss=StandardScaler()                                \n",
    "X_train=ss.fit_transform(np.array(X_train))\n",
    "X_test=ss.transform(np.array(X_test))"
   ]
  },
  {
   "cell_type": "code",
   "execution_count": 69,
   "metadata": {},
   "outputs": [],
   "source": [
    "manual_sgd=pd.DataFrame(data=X_train)\n",
    "manual_sgd['price']=Y_train"
   ]
  },
  {
   "cell_type": "code",
   "execution_count": 70,
   "metadata": {},
   "outputs": [],
   "source": [
    "X_test=np.array(X_test)\n",
    "Y_test=np.array(Y_test)"
   ]
  },
  {
   "cell_type": "code",
   "execution_count": 71,
   "metadata": {},
   "outputs": [],
   "source": [
    "diff=[]\n",
    "num=[]"
   ]
  },
  {
   "cell_type": "markdown",
   "metadata": {},
   "source": [
    "# Set 1: Manual SGD and SGDRegressor for iteration=1000, learning rate=0.01 and batch_size=10"
   ]
  },
  {
   "cell_type": "code",
   "execution_count": null,
   "metadata": {},
   "outputs": [],
   "source": [
    "# A) Implementing Manual SGD on LINEAR REGRESSION"
   ]
  },
  {
   "cell_type": "code",
   "execution_count": 72,
   "metadata": {},
   "outputs": [],
   "source": [
    "import seaborn as sns\n",
    "import numpy as np\n",
    "from sklearn.linear_model import SGDRegressor\n",
    "from sklearn.metrics import mean_squared_error\n",
    "import matplotlib.pyplot as plt\n",
    "%matplotlib inline"
   ]
  },
  {
   "cell_type": "code",
   "execution_count": 96,
   "metadata": {},
   "outputs": [],
   "source": [
    "#https://scikit-learn.org/stable/modules/generated/sklearn.linear_model.SGDClassifier.html\n",
    "#https://stackoverflow.com/questions/48843721/python-gd-and-sgd-implementation-on-linear-regression\n",
    "def manual_fit(X, lr_rate_variation, alpha=0.0001, lr_rate=0.01, power_t=0.25, n_iter=1000):\n",
    "    a=np.zeros(shape=(1,13))\n",
    "    b=0\n",
    "    t=1\n",
    "    r=lr_rate\n",
    "    \n",
    "    while(t<=n_iter):\n",
    "        a_1=a\n",
    "        b_1=b\n",
    "        a_=np.zeros(shape=(1,13))\n",
    "        b_=0\n",
    "        x_data=X.sample(10)\n",
    "        x=np.array(x_data.drop('price',axis=1))\n",
    "        y=np.array(x_data['price'])\n",
    "        \n",
    "        \n",
    "        for i in range(10):  \n",
    "            y_curr=np.dot(a_1,x[i])+b_1\n",
    "            a_+=x[i] * (y[i] - y_curr)\n",
    "            b_+=(y[i]-y_curr)       \n",
    "            \n",
    "        a_*=(-2/x.shape[0])\n",
    "        b_*=(-2/x.shape[0])\n",
    "    \n",
    "        a=(a_1-r*a_)\n",
    "        b=(b_1-r*b_)\n",
    "        \n",
    "        if(lr_rate_variation=='invscaling'):\n",
    "            r = lr_rate / pow(t, power_t)\n",
    "        t+=1\n",
    "        \n",
    "    return a,b"
   ]
  },
  {
   "cell_type": "code",
   "execution_count": 98,
   "metadata": {},
   "outputs": [],
   "source": [
    "def pred(x,w, b):\n",
    "    y_pred=[]\n",
    "    for i in range(len(x)):\n",
    "        y=np.asscalar(np.dot(w,x[i])+b)\n",
    "        y_pred.append(y)\n",
    "    return np.array(y_pred)\n",
    "\n",
    "#https://scikit-learn.org/stable/modules/generated/sklearn.linear_model.SGDClassifier.html\n",
    "#https://www.m-asim.com/2018/10/19/how-to-implement-linear-regression-with-stochastic-gradient-descent-from-scratch-with-python/\n",
    "def plot_(X_test,y_pred):\n",
    "    \n",
    "    plt.scatter(Y_test,y_pred)\n",
    "    plt.grid(b=True, linewidth=0.3)\n",
    "    plt.title(\"Actual Prices vs Predicted Prices: $Y_i$ vs $\\hat{Y}_i$\",size=18)\n",
    "    plt.xlabel(\"Actual Prices: $Y_i$\",size=14)\n",
    "    plt.ylabel(\"Predicted prices: $\\hat{Y}_i$\",size=14)\n",
    "    plt.show()\n",
    "    print('**************************************************************')\n",
    "    \n",
    "    \n",
    "       \n",
    "    manual_sgd_predictions=mean_squared_error(Y_test,y_pred)\n",
    "    print('Mean Squared Error for SGD  is=', manual_sgd_predictions)\n",
    "    \n",
    "    return manual_sgd_predictions"
   ]
  },
  {
   "cell_type": "markdown",
   "metadata": {},
   "source": [
    "# B) Actual Prices vs Predicted Prices - Manual SGD"
   ]
  },
  {
   "cell_type": "code",
   "execution_count": 99,
   "metadata": {},
   "outputs": [],
   "source": [
    "w, b=manual_fit(X=manual_sgd, lr_rate_variation='constant' , n_iter=1000)"
   ]
  },
  {
   "cell_type": "code",
   "execution_count": 100,
   "metadata": {},
   "outputs": [],
   "source": [
    "y_pred=pred(X_test, w=w, b=b)"
   ]
  },
  {
   "cell_type": "code",
   "execution_count": 101,
   "metadata": {},
   "outputs": [
    {
     "data": {
      "image/png": "[encoded data removed]",
      "text/plain": [
       "<Figure size 432x288 with 1 Axes>"
      ]
     },
     "metadata": {
      "needs_background": "light"
     },
     "output_type": "display_data"
    },
    {
     "name": "stdout",
     "output_type": "stream",
     "text": [
      "**************************************************************\n",
      "Mean Squared Error for SGD  is= 29.190348582305024\n"
     ]
    }
   ],
   "source": [
    "manual_sgd_predictions=plot_(X_test,y_pred)"
   ]
  },
  {
   "cell_type": "markdown",
   "metadata": {},
   "source": [
    "# C) Delta calculation"
   ]
  },
  {
   "cell_type": "code",
   "execution_count": 102,
   "metadata": {},
   "outputs": [
    {
     "data": {
      "image/png": "[encoded data removed]",
      "text/plain": [
       "<Figure size 432x288 with 1 Axes>"
      ]
     },
     "metadata": {},
     "output_type": "display_data"
    }
   ],
   "source": [
    "delta_y = Y_test - manual_sgd_predictions;\n",
    "\n",
    "import seaborn as sns;\n",
    "import numpy as np;\n",
    "sns.set_style('whitegrid')\n",
    "sns.kdeplot(np.array(delta_y), bw=0.5)\n",
    "plt.show()"
   ]
  },
  {
   "cell_type": "code",
   "execution_count": 19,
   "metadata": {},
   "outputs": [
    {
     "name": "stdout",
     "output_type": "stream",
     "text": [
      "manual sgd weight---\n",
      " [[-1.26180209  0.97661208 -0.46747528  0.03543625 -1.47907354  2.24727871\n",
      "  -0.20324435 -2.66972307  2.21848987 -1.60168014 -2.06784397  0.95997343\n",
      "  -3.31828759]]\n"
     ]
    }
   ],
   "source": [
    "print('manual sgd weight---\\n',w)"
   ]
  },
  {
   "cell_type": "markdown",
   "metadata": {},
   "source": [
    "# 2. SKLEARN's SGD"
   ]
  },
  {
   "cell_type": "code",
   "execution_count": null,
   "metadata": {},
   "outputs": [],
   "source": [
    "# A) Implementing SKLEARN's SGD Regression"
   ]
  },
  {
   "cell_type": "code",
   "execution_count": 20,
   "metadata": {},
   "outputs": [],
   "source": [
    "def sklearn_sgd(alpha, lr_rate_variation, eta0=0.01, power_t=0.25, n_iter=1000, X_train=X_train, X_test=X_test, Y_train=Y_train, Y_test=Y_test):\n",
    "    clf=SGDRegressor(alpha=alpha, penalty=None, learning_rate=lr_rate_variation, eta0=eta0, power_t=power_t, n_iter=n_iter)\n",
    "    clf.fit(X_train, Y_train)\n",
    "    y_pred=clf.predict(X_test)\n",
    "    \n",
    "    #https://scikit-learn.org/stable/modules/generated/sklearn.linear_model.SGDClassifier.html\n",
    "    plt.scatter(Y_test,y_pred)\n",
    "    plt.title(\"Actual Prices vs Predicted Prices: $Y_i$ vs $\\hat{Y}_i$\",size=18)\n",
    "    plt.xlabel(\"Actual Prices: $Y_i$\",size=14)\n",
    "    plt.ylabel(\"Predicted prices: $\\hat{Y}_i$\",size=14)\n",
    "    plt.grid(b=True, linewidth=0.5)\n",
    "    plt.show()\n",
    "    print('***********************************************************')\n",
    "    \n",
    "\n",
    "    \n",
    "       \n",
    "    sklearn_sgd_predictions=mean_squared_error(Y_test,y_pred)\n",
    "    print('Mean Squared Error for sklearn SGD  is=', sklearn_sgd_predictions)\n",
    "    return clf.coef_, clf.intercept_, sklearn_sgd_predictions"
   ]
  },
  {
   "cell_type": "markdown",
   "metadata": {},
   "source": [
    "# B) Actual Prices vs Predicted Prices - Sklearn's SGD"
   ]
  },
  {
   "cell_type": "code",
   "execution_count": 21,
   "metadata": {},
   "outputs": [
    {
     "name": "stderr",
     "output_type": "stream",
     "text": [
      "C:\\Users\\myuri\\Anaconda3\\lib\\site-packages\\sklearn\\linear_model\\stochastic_gradient.py:152: DeprecationWarning: n_iter parameter is deprecated in 0.19 and will be removed in 0.21. Use max_iter and tol instead.\n",
      "  DeprecationWarning)\n"
     ]
    },
    {
     "data": {
      "image/png": "[encoded data removed]",
      "text/plain": [
       "<Figure size 432x288 with 1 Axes>"
      ]
     },
     "metadata": {},
     "output_type": "display_data"
    },
    {
     "name": "stdout",
     "output_type": "stream",
     "text": [
      "***********************************************************\n",
      "Mean Squared Error for sklearn SGD  is= 31.723818064357136\n"
     ]
    }
   ],
   "source": [
    "w_sgd, b_sgd, sklearn_sgd_predictions=sklearn_sgd(alpha=0.0001, lr_rate_variation='constant', eta0=0.01, n_iter=1000)"
   ]
  },
  {
   "cell_type": "code",
   "execution_count": 22,
   "metadata": {},
   "outputs": [
    {
     "name": "stdout",
     "output_type": "stream",
     "text": [
      "sklearn sgd weight---\n",
      " [-1.4482362   0.96933109 -0.36207034  0.37129718 -1.40204542  2.793824\n",
      " -0.38061007 -2.83415396  2.62028983 -2.42494435 -2.33486942  0.87483608\n",
      " -2.84720086]\n"
     ]
    }
   ],
   "source": [
    "print('sklearn sgd weight---\\n',w_sgd)"
   ]
  },
  {
   "cell_type": "markdown",
   "metadata": {},
   "source": [
    "# Set 2: Manual SGD and SGDRegressor for iteration=100,learning rate=0.01 and batch_size=10"
   ]
  },
  {
   "cell_type": "markdown",
   "metadata": {},
   "source": [
    "# 1.Manual SGD"
   ]
  },
  {
   "cell_type": "code",
   "execution_count": null,
   "metadata": {},
   "outputs": [],
   "source": [
    "# A) Implementing Manual SGD on LINEAR REGRESSION"
   ]
  },
  {
   "cell_type": "code",
   "execution_count": 23,
   "metadata": {},
   "outputs": [],
   "source": [
    "def manual_fit(X, lr_rate_variation, alpha=0.0001, lr_rate=0.01, power_t=0.25, n_iter=100):\n",
    "    a=np.zeros(shape=(1,13))\n",
    "    b=0\n",
    "    t=1\n",
    "    r=lr_rate\n",
    "    \n",
    "    while(t<=n_iter):\n",
    "        a_1=a\n",
    "        b_1=b\n",
    "        a_=np.zeros(shape=(1,13))\n",
    "        b_=0\n",
    "        x_data=X.sample(10)\n",
    "        x=np.array(x_data.drop('price',axis=1))\n",
    "        y=np.array(x_data['price'])\n",
    "        \n",
    "        \n",
    "        for i in range(10):  \n",
    "            y_curr=np.dot(a_1,x[i])+b_1\n",
    "            a_+=x[i] * (y[i] - y_curr)\n",
    "            b_+=(y[i]-y_curr)\n",
    "            \n",
    "            \n",
    "        a_*=(-2/x.shape[0])\n",
    "        b_*=(-2/x.shape[0])\n",
    "        \n",
    "        \n",
    "        a=(a_1-r*a_)\n",
    "        b=(b_1-r*b_)\n",
    "        \n",
    "        \n",
    "        if(lr_rate_variation=='invscaling'):\n",
    "            r = lr_rate / pow(t, power_t)\n",
    "        t+=1\n",
    "        \n",
    "    return a,b"
   ]
  },
  {
   "cell_type": "code",
   "execution_count": 24,
   "metadata": {},
   "outputs": [],
   "source": [
    "# https://scikit-learn.org/stable/modules/generated/sklearn.linear_model.SGDClassifier.html\n",
    "def pred(x,w, b):\n",
    "    y_pred=[]\n",
    "    for i in range(len(x)):\n",
    "        y=np.asscalar(np.dot(w,x[i])+b)\n",
    "        y_pred.append(y)\n",
    "    return np.array(y_pred)\n",
    "\n",
    "\n",
    "def plot_(X_test,y_pred):\n",
    "    #scatter plot\n",
    "    plt.scatter(Y_test,y_pred)\n",
    "    plt.grid(b=True, linewidth=0.3)\n",
    "    plt.title(\"Actual Prices vs Predicted Prices: $Y_i$ vs $\\hat{Y}_i$\",size=18)\n",
    "    plt.xlabel(\"Actual Prices: $Y_i$\",size=14)\n",
    "    plt.ylabel(\"Predicted prices: $\\hat{Y}_i$\",size=14)\n",
    "    plt.show()\n",
    "    print('**************************************************************')\n",
    "    \n",
    "    \n",
    "       \n",
    "    manual_sgd_predictions=mean_squared_error(Y_test,y_pred)\n",
    "    print('Mean Squared Error for SGD  is=', manual_sgd_predictions)\n",
    "    \n",
    "    return manual_sgd_predictions"
   ]
  },
  {
   "cell_type": "markdown",
   "metadata": {},
   "source": [
    "# B) Actual Prices vs Predicted Prices - Manual SGD"
   ]
  },
  {
   "cell_type": "code",
   "execution_count": 25,
   "metadata": {},
   "outputs": [],
   "source": [
    "w, b=manual_fit(X=manual_sgd, lr_rate_variation='constant' , n_iter=100)"
   ]
  },
  {
   "cell_type": "code",
   "execution_count": 26,
   "metadata": {},
   "outputs": [],
   "source": [
    "y_pred=pred(X_test, w=w, b=b)"
   ]
  },
  {
   "cell_type": "code",
   "execution_count": 27,
   "metadata": {},
   "outputs": [
    {
     "data": {
      "image/png": "[encoded data removed]",
      "text/plain": [
       "<Figure size 432x288 with 1 Axes>"
      ]
     },
     "metadata": {},
     "output_type": "display_data"
    },
    {
     "name": "stdout",
     "output_type": "stream",
     "text": [
      "**************************************************************\n",
      "Mean Squared Error for SGD  is= 44.68717378241439\n"
     ]
    }
   ],
   "source": [
    "manual_sgd_predictions=plot_(X_test,y_pred)"
   ]
  },
  {
   "cell_type": "markdown",
   "metadata": {},
   "source": [
    "# C) Delta calculation"
   ]
  },
  {
   "cell_type": "code",
   "execution_count": 28,
   "metadata": {},
   "outputs": [
    {
     "data": {
      "image/png": "[encoded data removed]",
      "text/plain": [
       "<Figure size 432x288 with 1 Axes>"
      ]
     },
     "metadata": {},
     "output_type": "display_data"
    }
   ],
   "source": [
    "\n",
    "delta_y = Y_test - manual_sgd_predictions;\n",
    "\n",
    "import seaborn as sns;\n",
    "import numpy as np;\n",
    "sns.set_style('whitegrid')\n",
    "sns.kdeplot(np.array(delta_y), bw=0.5)\n",
    "plt.show()"
   ]
  },
  {
   "cell_type": "code",
   "execution_count": 29,
   "metadata": {},
   "outputs": [
    {
     "name": "stdout",
     "output_type": "stream",
     "text": [
      "manual sgd weight---\n",
      " [[-0.87219783  0.09280404 -1.07240255  0.5372507  -0.48505819  3.62350434\n",
      "   0.11505545 -1.31915466  0.48481747 -0.63682064 -1.75182607  0.90823022\n",
      "  -3.21287437]]\n"
     ]
    }
   ],
   "source": [
    "print('manual sgd weight---\\n',w)"
   ]
  },
  {
   "cell_type": "markdown",
   "metadata": {},
   "source": [
    "# 2. SKLEARN's SGD"
   ]
  },
  {
   "cell_type": "markdown",
   "metadata": {},
   "source": [
    "# A) Implementing SKLEARN's SGD Regression"
   ]
  },
  {
   "cell_type": "code",
   "execution_count": 30,
   "metadata": {},
   "outputs": [],
   "source": [
    "def sklearn_sgd(alpha, lr_rate_variation, eta0=0.01, power_t=0.25, n_iter=100, X_train=X_train, X_test=X_test, Y_train=Y_train, Y_test=Y_test):\n",
    "    clf=SGDRegressor(alpha=alpha, penalty=None, learning_rate=lr_rate_variation, eta0=eta0, power_t=power_t, n_iter=n_iter)\n",
    "    clf.fit(X_train, Y_train)\n",
    "    y_pred=clf.predict(X_test)\n",
    "    \n",
    " \n",
    "    plt.scatter(Y_test,y_pred)\n",
    "    plt.title(\"Actual Prices vs Predicted Prices: $Y_i$ vs $\\hat{Y}_i$\",size=18)\n",
    "    plt.xlabel(\"Actual Prices: $Y_i$\",size=14)\n",
    "    plt.ylabel(\"Predicted prices: $\\hat{Y}_i$\",size=14)\n",
    "    plt.grid(b=True, linewidth=0.5)\n",
    "    plt.show()\n",
    "    print('***********************************************************')\n",
    "\n",
    "    \n",
    "       \n",
    "    sklearn_sgd_predictions=mean_squared_error(Y_test,y_pred)\n",
    "    print('Mean Squared Error for sklearn SGD  is=', sklearn_sgd_predictions)\n",
    "    return clf.coef_, clf.intercept_, sklearn_sgd_predictions"
   ]
  },
  {
   "cell_type": "markdown",
   "metadata": {},
   "source": [
    "# B) Actual Prices vs Predicted Prices - Sklearn's SGD\n"
   ]
  },
  {
   "cell_type": "code",
   "execution_count": 31,
   "metadata": {},
   "outputs": [
    {
     "name": "stderr",
     "output_type": "stream",
     "text": [
      "C:\\Users\\myuri\\Anaconda3\\lib\\site-packages\\sklearn\\linear_model\\stochastic_gradient.py:152: DeprecationWarning: n_iter parameter is deprecated in 0.19 and will be removed in 0.21. Use max_iter and tol instead.\n",
      "  DeprecationWarning)\n"
     ]
    },
    {
     "data": {
      "image/png": "[encoded data removed]",
      "text/plain": [
       "<Figure size 432x288 with 1 Axes>"
      ]
     },
     "metadata": {},
     "output_type": "display_data"
    },
    {
     "name": "stdout",
     "output_type": "stream",
     "text": [
      "***********************************************************\n",
      "Mean Squared Error for sklearn SGD  is= 35.9310287384534\n"
     ]
    }
   ],
   "source": [
    "w_sgd, b_sgd, sklearn_sgd_predictions=sklearn_sgd(alpha=0.0001, lr_rate_variation='constant', eta0=0.01, n_iter=100)"
   ]
  },
  {
   "cell_type": "code",
   "execution_count": 32,
   "metadata": {},
   "outputs": [
    {
     "name": "stdout",
     "output_type": "stream",
     "text": [
      "sklearn sgd weight---\n",
      " [-1.46650869  0.85241943 -0.34573313 -0.36656426 -1.721017    2.33378017\n",
      " -0.18405754 -2.62373484  2.636995   -2.40623034 -2.02920351  0.97542525\n",
      " -2.70858207]\n"
     ]
    }
   ],
   "source": [
    "print('sklearn sgd weight---\\n',w_sgd)"
   ]
  },
  {
   "cell_type": "markdown",
   "metadata": {},
   "source": [
    "# Set 3: Manual SGD and SGDRegressor for iteration=10000,learning rate=0.01 and batch_size=20"
   ]
  },
  {
   "cell_type": "code",
   "execution_count": null,
   "metadata": {},
   "outputs": [],
   "source": [
    "#1.Manual SGD"
   ]
  },
  {
   "cell_type": "code",
   "execution_count": null,
   "metadata": {},
   "outputs": [],
   "source": [
    "#A) Implementing Manual SGD on LINEAR REGRESSION"
   ]
  },
  {
   "cell_type": "code",
   "execution_count": 33,
   "metadata": {},
   "outputs": [],
   "source": [
    "def manual_fit(X, lr_rate_variation, alpha=0.0001, lr_rate=0.01, power_t=0.25, n_iter=10000):\n",
    "    a=np.zeros(shape=(1,13))\n",
    "    b=0\n",
    "    t=1\n",
    "    r=lr_rate\n",
    "    \n",
    "    while(t<=n_iter):\n",
    "        a_1=a\n",
    "        b_1=b\n",
    "        a_=np.zeros(shape=(1,13))\n",
    "        b_=0\n",
    "        x_data=X.sample(20)\n",
    "        x=np.array(x_data.drop('price',axis=1))\n",
    "        y=np.array(x_data['price'])\n",
    "        \n",
    "        \n",
    "        for i in range(10):  \n",
    "            y_curr=np.dot(a_1,x[i])+b_1\n",
    "            a_+=x[i] * (y[i] - y_curr)\n",
    "            b_+=(y[i]-y_curr)\n",
    "            \n",
    "            \n",
    "        a_*=(-2/x.shape[0])\n",
    "        b_*=(-2/x.shape[0])\n",
    "        \n",
    "        \n",
    "        a=(a_1-r*a_)\n",
    "        b=(b_1-r*b_)\n",
    "        \n",
    "        \n",
    "        if(lr_rate_variation=='invscaling'):\n",
    "            r = lr_rate / pow(t, power_t)\n",
    "        t+=1\n",
    "        \n",
    "    return a,b"
   ]
  },
  {
   "cell_type": "code",
   "execution_count": 34,
   "metadata": {},
   "outputs": [],
   "source": [
    "def pred(x,w, b):\n",
    "    y_pred=[]\n",
    "    for i in range(len(x)):\n",
    "        y=np.asscalar(np.dot(w,x[i])+b)\n",
    "        y_pred.append(y)\n",
    "    return np.array(y_pred)\n",
    "\n",
    "\n",
    "def plot_(X_test,y_pred):\n",
    "    #scatter plot\n",
    "    plt.scatter(Y_test,y_pred)\n",
    "    plt.grid(b=True, linewidth=0.3)\n",
    "    plt.title(\"Actual Prices vs Predicted Prices: $Y_i$ vs $\\hat{Y}_i$\",size=18)\n",
    "    plt.xlabel(\"Actual Prices: $Y_i$\",size=14)\n",
    "    plt.ylabel(\"Predicted prices: $\\hat{Y}_i$\",size=14)\n",
    "    plt.show()\n",
    "    print('**************************************************************')\n",
    "    \n",
    "    \n",
    "       \n",
    "    manual_sgd_predictions=mean_squared_error(Y_test,y_pred)\n",
    "    print('Mean Squared Error for SGD  is=', manual_sgd_predictions)\n",
    "    \n",
    "    return manual_sgd_predictions"
   ]
  },
  {
   "cell_type": "markdown",
   "metadata": {},
   "source": [
    "# B) Actual Prices vs Predicted Prices - Manual SGD"
   ]
  },
  {
   "cell_type": "code",
   "execution_count": 35,
   "metadata": {},
   "outputs": [],
   "source": [
    "w, b=manual_fit(X=manual_sgd, lr_rate_variation='constant' , n_iter=10000)"
   ]
  },
  {
   "cell_type": "code",
   "execution_count": 36,
   "metadata": {},
   "outputs": [],
   "source": [
    "y_pred=pred(X_test, w=w, b=b)"
   ]
  },
  {
   "cell_type": "code",
   "execution_count": 37,
   "metadata": {},
   "outputs": [
    {
     "data": {
      "image/png": "[encoded data removed]",
      "text/plain": [
       "<Figure size 432x288 with 1 Axes>"
      ]
     },
     "metadata": {},
     "output_type": "display_data"
    },
    {
     "name": "stdout",
     "output_type": "stream",
     "text": [
      "**************************************************************\n",
      "Mean Squared Error for SGD  is= 31.720432090621838\n"
     ]
    }
   ],
   "source": [
    "manual_sgd_predictions=plot_(X_test,y_pred)"
   ]
  },
  {
   "cell_type": "markdown",
   "metadata": {},
   "source": [
    "# C) Delta calculation"
   ]
  },
  {
   "cell_type": "code",
   "execution_count": 38,
   "metadata": {},
   "outputs": [
    {
     "data": {
      "image/png": "[encoded data removed]",
      "text/plain": [
       "<Figure size 432x288 with 1 Axes>"
      ]
     },
     "metadata": {},
     "output_type": "display_data"
    }
   ],
   "source": [
    "\n",
    "delta_y = Y_test - manual_sgd_predictions;\n",
    "\n",
    "import seaborn as sns;\n",
    "import numpy as np;\n",
    "sns.set_style('whitegrid')\n",
    "sns.kdeplot(np.array(delta_y), bw=0.5)\n",
    "plt.show()"
   ]
  },
  {
   "cell_type": "code",
   "execution_count": 39,
   "metadata": {},
   "outputs": [
    {
     "name": "stdout",
     "output_type": "stream",
     "text": [
      "manual sgd weight---\n",
      " [[-1.19805521  1.07186743 -0.18415063  0.03677539 -1.5120233   2.89647951\n",
      "  -0.42811747 -2.79927493  2.72217074 -2.13396224 -2.0969396   1.22362042\n",
      "  -3.31214515]]\n"
     ]
    }
   ],
   "source": [
    "print('manual sgd weight---\\n',w)"
   ]
  },
  {
   "cell_type": "markdown",
   "metadata": {},
   "source": [
    "# 2. SKLEARN's SGD"
   ]
  },
  {
   "cell_type": "code",
   "execution_count": null,
   "metadata": {},
   "outputs": [],
   "source": [
    "A) Implementing SKLEARN's SGD Regression"
   ]
  },
  {
   "cell_type": "code",
   "execution_count": 40,
   "metadata": {},
   "outputs": [],
   "source": [
    "def sklearn_sgd(alpha, lr_rate_variation, eta0=0.01, power_t=0.25, n_iter=10000, X_train=X_train, X_test=X_test, Y_train=Y_train, Y_test=Y_test):\n",
    "    clf=SGDRegressor(alpha=alpha, penalty=None, learning_rate=lr_rate_variation, eta0=eta0, power_t=power_t, n_iter=n_iter)\n",
    "    clf.fit(X_train, Y_train)\n",
    "    y_pred=clf.predict(X_test)\n",
    "    \n",
    " \n",
    "    plt.scatter(Y_test,y_pred)\n",
    "    plt.title(\"Actual Prices vs Predicted Prices: $Y_i$ vs $\\hat{Y}_i$\",size=18)\n",
    "    plt.xlabel(\"Actual Prices: $Y_i$\",size=14)\n",
    "    plt.ylabel(\"Predicted prices: $\\hat{Y}_i$\",size=14)\n",
    "    plt.grid(b=True, linewidth=0.5)\n",
    "    plt.show()\n",
    "    print('***********************************************************')\n",
    "    \n",
    "    \n",
    "    \n",
    "       \n",
    "    sklearn_sgd_predictions=mean_squared_error(Y_test,y_pred)\n",
    "    print('Mean Squared Error for sklearn SGD  is=', sklearn_sgd_predictions)\n",
    "    return clf.coef_, clf.intercept_, sklearn_sgd_predictions"
   ]
  },
  {
   "cell_type": "markdown",
   "metadata": {},
   "source": [
    "# B) Actual Prices vs Predicted Prices - Sklearn's SGD"
   ]
  },
  {
   "cell_type": "code",
   "execution_count": 41,
   "metadata": {},
   "outputs": [
    {
     "name": "stderr",
     "output_type": "stream",
     "text": [
      "C:\\Users\\myuri\\Anaconda3\\lib\\site-packages\\sklearn\\linear_model\\stochastic_gradient.py:152: DeprecationWarning: n_iter parameter is deprecated in 0.19 and will be removed in 0.21. Use max_iter and tol instead.\n",
      "  DeprecationWarning)\n"
     ]
    },
    {
     "data": {
      "image/png": "[encoded data removed]",
      "text/plain": [
       "<Figure size 432x288 with 1 Axes>"
      ]
     },
     "metadata": {},
     "output_type": "display_data"
    },
    {
     "name": "stdout",
     "output_type": "stream",
     "text": [
      "***********************************************************\n",
      "Mean Squared Error for sklearn SGD  is= 31.103818433610847\n"
     ]
    }
   ],
   "source": [
    "w_sgd, b_sgd, sklearn_sgd_predictions=sklearn_sgd(alpha=0.0001, lr_rate_variation='constant', eta0=0.01, n_iter=10000)"
   ]
  },
  {
   "cell_type": "code",
   "execution_count": 42,
   "metadata": {},
   "outputs": [
    {
     "name": "stdout",
     "output_type": "stream",
     "text": [
      "sklearn sgd weight---\n",
      " [-1.53668381  0.75544748 -0.25937844  0.45383545 -1.35256007  3.07651208\n",
      " -0.29745472 -3.00849022  2.77907599 -2.17376603 -2.11990541  1.29432921\n",
      " -3.72275395]\n"
     ]
    }
   ],
   "source": [
    "print('sklearn sgd weight---\\n',w_sgd)"
   ]
  },
  {
   "cell_type": "markdown",
   "metadata": {},
   "source": [
    "# Set 4: Manual SGD and SGDRegressor for iteration=1000, learning rate=0.001, and batch_size=20"
   ]
  },
  {
   "cell_type": "code",
   "execution_count": null,
   "metadata": {},
   "outputs": [],
   "source": [
    "A) Implementing Manual SGD on LINEAR REGRESSION"
   ]
  },
  {
   "cell_type": "code",
   "execution_count": 43,
   "metadata": {},
   "outputs": [],
   "source": [
    "def manual_fit(X, lr_rate_variation, alpha=0.0001, lr_rate=0.001, power_t=0.25, n_iter=1000):\n",
    "    a=np.zeros(shape=(1,13))\n",
    "    b=0\n",
    "    t=1\n",
    "    r=lr_rate\n",
    "    \n",
    "    while(t<=n_iter):\n",
    "        a_1=a\n",
    "        b_1=b\n",
    "        a_=np.zeros(shape=(1,13))\n",
    "        b_=0\n",
    "        x_data=X.sample(10)\n",
    "        x=np.array(x_data.drop('price',axis=1))\n",
    "        y=np.array(x_data['price'])\n",
    "        \n",
    "        \n",
    "        for i in range(10):  \n",
    "            y_curr=np.dot(a_1,x[i])+b_1\n",
    "            a_+=x[i] * (y[i] - y_curr)\n",
    "            b_+=(y[i]-y_curr)\n",
    "            \n",
    "            \n",
    "        a_*=(-2/x.shape[0])\n",
    "        b_*=(-2/x.shape[0])\n",
    "        \n",
    "        \n",
    "        a=(a_1-r*a_)\n",
    "        b=(b_1-r*b_)\n",
    "        \n",
    "        \n",
    "        if(lr_rate_variation=='invscaling'):\n",
    "            r = lr_rate / pow(t, power_t)\n",
    "        t+=1\n",
    "        \n",
    "    return a,b"
   ]
  },
  {
   "cell_type": "code",
   "execution_count": 44,
   "metadata": {},
   "outputs": [],
   "source": [
    "def pred(x,w, b):\n",
    "    y_pred=[]\n",
    "    for i in range(len(x)):\n",
    "        y=np.asscalar(np.dot(w,x[i])+b)\n",
    "        y_pred.append(y)\n",
    "    return np.array(y_pred)\n",
    "\n",
    "\n",
    "def plot_(X_test,y_pred):\n",
    "    \n",
    "    plt.scatter(Y_test,y_pred)\n",
    "    plt.grid(b=True, linewidth=0.3)\n",
    "    plt.title(\"Actual Prices vs Predicted Prices: $Y_i$ vs $\\hat{Y}_i$\",size=18)\n",
    "    plt.xlabel(\"Actual Prices: $Y_i$\",size=14)\n",
    "    plt.ylabel(\"Predicted prices: $\\hat{Y}_i$\",size=14)\n",
    "    plt.show()\n",
    "    print('**************************************************************')\n",
    "    \n",
    "   #https://scikit-learn.org/stable/modules/generated/sklearn.linear_model.SGDClassifier.html \n",
    "       \n",
    "    manual_sgd_predictions=mean_squared_error(Y_test,y_pred)\n",
    "    print('Mean Squared Error for SGD  is=', manual_sgd_predictions)\n",
    "    \n",
    "    return manual_sgd_predictions"
   ]
  },
  {
   "cell_type": "markdown",
   "metadata": {},
   "source": [
    "# B) Actual Prices vs Predicted Prices - Manual SGD"
   ]
  },
  {
   "cell_type": "code",
   "execution_count": 45,
   "metadata": {},
   "outputs": [],
   "source": [
    "w, b=manual_fit(X=manual_sgd, lr_rate_variation='constant' , n_iter=1000)"
   ]
  },
  {
   "cell_type": "code",
   "execution_count": 46,
   "metadata": {},
   "outputs": [],
   "source": [
    "y_pred=pred(X_test, w=w, b=b)"
   ]
  },
  {
   "cell_type": "markdown",
   "metadata": {},
   "source": [
    "# C) Delta calculation"
   ]
  },
  {
   "cell_type": "code",
   "execution_count": 47,
   "metadata": {},
   "outputs": [
    {
     "data": {
      "image/png": "[encoded data removed]",
      "text/plain": [
       "<Figure size 432x288 with 1 Axes>"
      ]
     },
     "metadata": {},
     "output_type": "display_data"
    }
   ],
   "source": [
    "delta_y = Y_test - manual_sgd_predictions;\n",
    "\n",
    "import seaborn as sns;\n",
    "import numpy as np;\n",
    "sns.set_style('whitegrid')\n",
    "sns.kdeplot(np.array(delta_y), bw=0.5)\n",
    "plt.show()"
   ]
  },
  {
   "cell_type": "code",
   "execution_count": 48,
   "metadata": {},
   "outputs": [
    {
     "name": "stdout",
     "output_type": "stream",
     "text": [
      "manual sgd weight---\n",
      " [[-0.77008504  0.33411384 -0.59115633  0.4041295  -0.32917868  2.88094627\n",
      "  -0.41024958 -1.24141092  0.15789184 -0.4855799  -1.77064741  0.82893361\n",
      "  -2.6369224 ]]\n"
     ]
    }
   ],
   "source": [
    "print('manual sgd weight---\\n',w)"
   ]
  },
  {
   "cell_type": "markdown",
   "metadata": {},
   "source": [
    "# 2. SKLEARN's SGD"
   ]
  },
  {
   "cell_type": "code",
   "execution_count": null,
   "metadata": {},
   "outputs": [],
   "source": [
    "A) Implementing SKLEARN's SGD Regression"
   ]
  },
  {
   "cell_type": "code",
   "execution_count": 49,
   "metadata": {},
   "outputs": [],
   "source": [
    "def sklearn_sgd(alpha, lr_rate_variation, eta0=0.01, power_t=0.25, n_iter=1000, X_train=X_train, X_test=X_test, Y_train=Y_train, Y_test=Y_test):\n",
    "    clf=SGDRegressor(alpha=alpha, penalty=None, learning_rate=lr_rate_variation, eta0=eta0, power_t=power_t, n_iter=n_iter)\n",
    "    clf.fit(X_train, Y_train)\n",
    "    y_pred=clf.predict(X_test)\n",
    "    \n",
    "    \n",
    "    plt.scatter(Y_test,y_pred)\n",
    "    plt.title(\"Actual Prices vs Predicted Prices: $Y_i$ vs $\\hat{Y}_i$\",size=18)\n",
    "    plt.xlabel(\"Actual Prices: $Y_i$\",size=14)\n",
    "    plt.ylabel(\"Predicted prices: $\\hat{Y}_i$\",size=14)\n",
    "    plt.grid(b=True, linewidth=0.5)\n",
    "    plt.show()\n",
    "    print('***********************************************************')\n",
    "    \n",
    "    \n",
    "    \n",
    "       \n",
    "    sklearn_sgd_predictions=mean_squared_error(Y_test,y_pred)\n",
    "    print('Mean Squared Error for sklearn SGD  is=', sklearn_sgd_predictions)\n",
    "    return clf.coef_, clf.intercept_, sklearn_sgd_predictions"
   ]
  },
  {
   "cell_type": "markdown",
   "metadata": {},
   "source": [
    "# B) Actual Prices vs Predicted Prices - Sklearn's SGD"
   ]
  },
  {
   "cell_type": "code",
   "execution_count": 50,
   "metadata": {},
   "outputs": [
    {
     "name": "stderr",
     "output_type": "stream",
     "text": [
      "C:\\Users\\myuri\\Anaconda3\\lib\\site-packages\\sklearn\\linear_model\\stochastic_gradient.py:152: DeprecationWarning: n_iter parameter is deprecated in 0.19 and will be removed in 0.21. Use max_iter and tol instead.\n",
      "  DeprecationWarning)\n"
     ]
    },
    {
     "data": {
      "image/png": "[encoded data removed]",
      "text/plain": [
       "<Figure size 432x288 with 1 Axes>"
      ]
     },
     "metadata": {},
     "output_type": "display_data"
    },
    {
     "name": "stdout",
     "output_type": "stream",
     "text": [
      "***********************************************************\n",
      "Mean Squared Error for sklearn SGD  is= 34.772025735865874\n"
     ]
    }
   ],
   "source": [
    "w_sgd, b_sgd, sklearn_sgd_predictions=sklearn_sgd(alpha=0.0001, lr_rate_variation='constant', eta0=0.01, n_iter=1000)"
   ]
  },
  {
   "cell_type": "code",
   "execution_count": 51,
   "metadata": {},
   "outputs": [
    {
     "name": "stdout",
     "output_type": "stream",
     "text": [
      "sklearn sgd weight---\n",
      " [-0.98623427  0.86141596 -0.2650199  -0.4632424  -1.92109589  2.53509375\n",
      " -0.45693715 -2.77576468  2.65615629 -2.199046   -2.04629659  1.37378185\n",
      " -3.38031929]\n"
     ]
    }
   ],
   "source": [
    "print('sklearn sgd weight---\\n',w_sgd)"
   ]
  },
  {
   "cell_type": "code",
   "execution_count": 54,
   "metadata": {},
   "outputs": [],
   "source": [
    "#5.Observations"
   ]
  },
  {
   "cell_type": "code",
   "execution_count": 53,
   "metadata": {},
   "outputs": [
    {
     "name": "stdout",
     "output_type": "stream",
     "text": [
      "+-----------+-------------+---------+------------+-------+\n",
      "| Serial_no |  algorithm  | lr_rate | iterations |  MSE  |\n",
      "+-----------+-------------+---------+------------+-------+\n",
      "|     1     |  manual_sgd |   0.01  |    1000    | 30.25 |\n",
      "|     2     | sklearn_sgd |   0.01  |    1000    | 31.89 |\n",
      "|     3     |  manual_sgd |   0.01  |    100     | 29.18 |\n",
      "|     4     | sklearn_sgd |   0.01  |    100     | 28.05 |\n",
      "|     5     |  manual_sgd |   0.01  |   10000    | 29.97 |\n",
      "|     6     | sklearn_sgd |   0.01  |   10000    |  28.7 |\n",
      "|     7     |  manual_sgd |  0.001  |    1000    |  29.8 |\n",
      "|     8     | sklearn_sgd |  0.001  |    1000    | 28.19 |\n",
      "+-----------+-------------+---------+------------+-------+\n"
     ]
    }
   ],
   "source": [
    "from prettytable import PrettyTable\n",
    "\n",
    "x = PrettyTable()\n",
    "x.field_names = [\"Serial_no\", \"algorithm\", \"lr_rate\",\"iterations\",\"MSE\"]\n",
    "x.add_row([1, \"manual_sgd\", .01, 1000, 30.25])\n",
    "x.add_row([2, \"sklearn_sgd\", .01, 1000,31.89])\n",
    "x.add_row([3, \"manual_sgd\", .01, 100, 29.18])\n",
    "x.add_row([4, \"sklearn_sgd\", .01, 100,28.05])\n",
    "x.add_row([5, \"manual_sgd\", .01, 10000, 29.97])\n",
    "x.add_row([6, \"sklearn_sgd\", .01, 10000,28.7])\n",
    "x.add_row([7, \"manual_sgd\", .001, 1000, 29.8])\n",
    "x.add_row([8, \"sklearn_sgd\", .001, 1000,28.19])\n",
    "\n",
    "print(x)"
   ]
  },
  {
   "cell_type": "markdown",
   "metadata": {},
   "source": [
    "# CONCLUSIONS"
   ]
  },
  {
   "cell_type": "markdown",
   "metadata": {},
   "source": [
    "1.In the above analysis we used the batch size=(10 and 20) and\n",
    "iteration = (1000,100,10000,1000) with different learning rate on the model to get the best error rate.\n",
    "2.The comparision between both the models is summarised below on the basis of final observations."
   ]
  },
  {
   "cell_type": "markdown",
   "metadata": {},
   "source": [
    "# SUMMARY"
   ]
  },
  {
   "cell_type": "markdown",
   "metadata": {},
   "source": [
    "While analysing the boston house\n",
    "price dataset on by manual SGD regressor \n",
    "and SKLEARN's SGD we can say that by increasing iteration number,\n",
    "weights of SGDRegressor and manual SGD, becomes more similar or higher the number of iteration , \n",
    "manual SGD seems similar to SGDRegressor and change in error reduces by little magrin with \n",
    "increase in iteration number of manual SGD regressor.Here best iteration=10000 with \n",
    "lr_rate=.01 will be choosen,as it gives best(less) error rate value,in comparision with other 4 models."
   ]
  }
 ],
 "metadata": {
  "colab": {
   "name": "Untitled3.ipynb",
   "provenance": [],
   "version": "0.3.2"
  },
  "kernelspec": {
   "display_name": "Python 3",
   "language": "python",
   "name": "python3"
  },
  "language_info": {
   "codemirror_mode": {
    "name": "ipython",
    "version": 3
   },
   "file_extension": ".py",
   "mimetype": "text/x-python",
   "name": "python",
   "nbconvert_exporter": "python",
   "pygments_lexer": "ipython3",
   "version": "3.7.3"
  }
 },
 "nbformat": 4,
 "nbformat_minor": 1
}
